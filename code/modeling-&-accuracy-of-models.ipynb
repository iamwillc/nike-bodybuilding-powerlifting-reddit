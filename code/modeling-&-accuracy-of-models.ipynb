{
 "cells": [
  {
   "cell_type": "markdown",
   "metadata": {},
   "source": [
    "<img src=\"https://imgur.com/3Ua9VYU.png\" style=\"float: left; margin: 18px; height: 75px\"> \n",
    "\n",
    "## *Modeling & Accuracy of Models*\n",
    "---"
   ]
  },
  {
   "cell_type": "markdown",
   "metadata": {},
   "source": [
    "## Import Libraries\n",
    "--- "
   ]
  },
  {
   "cell_type": "code",
   "execution_count": 128,
   "metadata": {},
   "outputs": [],
   "source": [
    "import pandas as pd\n",
    "from sklearn.model_selection import train_test_split, GridSearchCV\n",
    "from sklearn.pipeline import Pipeline\n",
    "from sklearn.linear_model import LogisticRegression\n",
    "from sklearn.naive_bayes import MultinomialNB\n",
    "from sklearn.neighbors import KNeighborsClassifier\n",
    "from sklearn.ensemble import RandomForestClassifier,AdaBoostClassifier, GradientBoostingClassifier\n",
    "from sklearn.metrics import confusion_matrix, plot_confusion_matrix\n",
    "from sklearn.feature_extraction.text import CountVectorizer, TfidfVectorizer"
   ]
  },
  {
   "cell_type": "markdown",
   "metadata": {},
   "source": [
    "## Reading in Data\n",
    "---"
   ]
  },
  {
   "cell_type": "code",
   "execution_count": 79,
   "metadata": {},
   "outputs": [
    {
     "data": {
      "text/html": [
       "<div>\n",
       "<style scoped>\n",
       "    .dataframe tbody tr th:only-of-type {\n",
       "        vertical-align: middle;\n",
       "    }\n",
       "\n",
       "    .dataframe tbody tr th {\n",
       "        vertical-align: top;\n",
       "    }\n",
       "\n",
       "    .dataframe thead th {\n",
       "        text-align: right;\n",
       "    }\n",
       "</style>\n",
       "<table border=\"1\" class=\"dataframe\">\n",
       "  <thead>\n",
       "    <tr style=\"text-align: right;\">\n",
       "      <th></th>\n",
       "      <th>subreddit</th>\n",
       "      <th>body</th>\n",
       "    </tr>\n",
       "  </thead>\n",
       "  <tbody>\n",
       "    <tr>\n",
       "      <th>0</th>\n",
       "      <td>bodybuilding</td>\n",
       "      <td>Lmao so classic is basically open now</td>\n",
       "    </tr>\n",
       "    <tr>\n",
       "      <th>1</th>\n",
       "      <td>bodybuilding</td>\n",
       "      <td>No one had a coach up until late 90s. Seems li...</td>\n",
       "    </tr>\n",
       "    <tr>\n",
       "      <th>2</th>\n",
       "      <td>bodybuilding</td>\n",
       "      <td>Let’s all agree with enough and some. 1st plac...</td>\n",
       "    </tr>\n",
       "    <tr>\n",
       "      <th>3</th>\n",
       "      <td>bodybuilding</td>\n",
       "      <td>58 now 59 at Christmas</td>\n",
       "    </tr>\n",
       "    <tr>\n",
       "      <th>4</th>\n",
       "      <td>bodybuilding</td>\n",
       "      <td>Where is the cheapest iso100 fruity pebbles? I...</td>\n",
       "    </tr>\n",
       "  </tbody>\n",
       "</table>\n",
       "</div>"
      ],
      "text/plain": [
       "      subreddit                                               body\n",
       "0  bodybuilding              Lmao so classic is basically open now\n",
       "1  bodybuilding  No one had a coach up until late 90s. Seems li...\n",
       "2  bodybuilding  Let’s all agree with enough and some. 1st plac...\n",
       "3  bodybuilding                             58 now 59 at Christmas\n",
       "4  bodybuilding  Where is the cheapest iso100 fruity pebbles? I..."
      ]
     },
     "execution_count": 79,
     "metadata": {},
     "output_type": "execute_result"
    }
   ],
   "source": [
    "bbandpl=pd.read_csv('../dataset/bbandpl.csv')\n",
    "bbandpl.head()"
   ]
  },
  {
   "cell_type": "markdown",
   "metadata": {},
   "source": [
    "## Data Prep\n",
    "---"
   ]
  },
  {
   "cell_type": "code",
   "execution_count": 80,
   "metadata": {},
   "outputs": [],
   "source": [
    "bbandpl['subreddit']=bbandpl['subreddit'].map({'bodybuilding':1,'powerlifting':0})"
   ]
  },
  {
   "cell_type": "code",
   "execution_count": 81,
   "metadata": {},
   "outputs": [],
   "source": [
    "#features and target\n",
    "X=bbandpl['body']\n",
    "y=bbandpl['subreddit']"
   ]
  },
  {
   "cell_type": "code",
   "execution_count": 82,
   "metadata": {},
   "outputs": [],
   "source": [
    "#split the data into the training and testing sets.\n",
    "X_train, X_test, y_train, y_test = train_test_split(X,y,stratify=y,random_state=42)"
   ]
  },
  {
   "cell_type": "markdown",
   "metadata": {},
   "source": [
    "## Modeling\n",
    "---"
   ]
  },
  {
   "cell_type": "code",
   "execution_count": 83,
   "metadata": {},
   "outputs": [
    {
     "data": {
      "text/plain": [
       "1    0.5\n",
       "0    0.5\n",
       "Name: subreddit, dtype: float64"
      ]
     },
     "execution_count": 83,
     "metadata": {},
     "output_type": "execute_result"
    }
   ],
   "source": [
    "#baseline accuracy\n",
    "y.value_counts(normalize = True)"
   ]
  },
  {
   "cell_type": "markdown",
   "metadata": {},
   "source": [
    "### *CountVectorizer with LogisticRegression*\n",
    "---"
   ]
  },
  {
   "cell_type": "code",
   "execution_count": 84,
   "metadata": {},
   "outputs": [
    {
     "data": {
      "text/plain": [
       "GridSearchCV(cv=3,\n",
       "             estimator=Pipeline(steps=[('cvec', CountVectorizer()),\n",
       "                                       ('lr', LogisticRegression())]),\n",
       "             n_jobs=-1,\n",
       "             param_grid={'cvec__max_df': [0.9, 0.95],\n",
       "                         'cvec__max_features': [2000, 3000, 4000, 5000],\n",
       "                         'cvec__min_df': [2, 3],\n",
       "                         'cvec__ngram_range': [(1, 1), (1, 2)],\n",
       "                         'cvec__stop_words': [None, 'english'],\n",
       "                         'lr__penalty': ['l1', 'l2', None]})"
      ]
     },
     "execution_count": 84,
     "metadata": {},
     "output_type": "execute_result"
    }
   ],
   "source": [
    "#setting up pipeline\n",
    "pipe_cvec_lr = Pipeline([('cvec', CountVectorizer()),('lr', LogisticRegression())])\n",
    "\n",
    "#setting up parameters\n",
    "pipe_cvec_params = {\n",
    "    'cvec__max_features': [2_000, 3_000, 4_000, 5_000],\n",
    "    'cvec__stop_words': [None, 'english'],\n",
    "    'cvec__ngram_range': [(1, 1), (1, 2)],\n",
    "    'cvec__min_df': [2, 3],\n",
    "    'cvec__max_df': [.9, .95],\n",
    "    'lr__penalty': ['l1','l2',None]\n",
    "    }\n",
    "\n",
    "#instantiate GridSearchCV\n",
    "gs_cvec_lr = GridSearchCV(pipe_cvec_lr,param_grid = pipe_cvec_params,n_jobs=-1,cv = 3)\n",
    "\n",
    "#fitting with train data\n",
    "gs_cvec_lr.fit(X_train,y_train)"
   ]
  },
  {
   "cell_type": "code",
   "execution_count": 113,
   "metadata": {},
   "outputs": [
    {
     "name": "stdout",
     "output_type": "stream",
     "text": [
      "The best score for the best model is :0.7886666666666667\n",
      "The best parameters for the best model is :{'cvec__max_df': 0.9, 'cvec__max_features': 4000, 'cvec__min_df': 2, 'cvec__ngram_range': (1, 2), 'cvec__stop_words': 'english', 'lr__penalty': 'l2'}\n",
      "The train data score is:0.9653333333333334\n",
      "The test data score is:0.814\n"
     ]
    }
   ],
   "source": [
    "print(f'The best score for the best model is :{gs_cvec_lr.best_score_}')\n",
    "print(f'The best parameters for the best model is :{gs_cvec_lr.best_params_}')\n",
    "print(f'The train data score is:{gs_cvec_lr.score(X_train,y_train)}')\n",
    "print(f'The test data score is:{gs_cvec_lr.score(X_test,y_test)}')"
   ]
  },
  {
   "cell_type": "markdown",
   "metadata": {},
   "source": [
    "### *CountVectorizer with KNeighbors*\n",
    "---"
   ]
  },
  {
   "cell_type": "code",
   "execution_count": 106,
   "metadata": {},
   "outputs": [
    {
     "data": {
      "text/plain": [
       "GridSearchCV(cv=3,\n",
       "             estimator=Pipeline(steps=[('cvec', CountVectorizer()),\n",
       "                                       ('knn', KNeighborsClassifier())]),\n",
       "             n_jobs=-1,\n",
       "             param_grid={'cvec__max_df': [0.9, 0.95],\n",
       "                         'cvec__max_features': [2000, 3000, 4000, 5000],\n",
       "                         'cvec__min_df': [2, 3],\n",
       "                         'cvec__ngram_range': [(1, 1), (1, 2)],\n",
       "                         'cvec__stop_words': [None, 'english'],\n",
       "                         'knn__n_neighbors': [3, 5, 7],\n",
       "                         'knn__weights': ['distance', 'uniform']})"
      ]
     },
     "execution_count": 106,
     "metadata": {},
     "output_type": "execute_result"
    }
   ],
   "source": [
    "#setting up pipeline\n",
    "pipe_cvec_knn = Pipeline([('cvec', CountVectorizer()),('knn', KNeighborsClassifier())])\n",
    "\n",
    "#setting up parameters\n",
    "pipe_cvec_params = {\n",
    "    'cvec__max_features': [2_000, 3_000, 4_000, 5_000],\n",
    "    'cvec__stop_words': [None, 'english'],\n",
    "    'cvec__ngram_range': [(1, 1), (1, 2)],\n",
    "    'cvec__min_df': [2, 3],\n",
    "    'cvec__max_df': [.9, .95],\n",
    "    'knn__n_neighbors':[3,5,7],\n",
    "    'knn__weights':['distance','uniform']\n",
    "    }\n",
    "\n",
    "#instantiate GridSearchCV\n",
    "gs_cvec_knn = GridSearchCV(pipe_cvec_knn,param_grid = pipe_cvec_params,n_jobs=-1,cv = 3)\n",
    "\n",
    "#fitting with train data\n",
    "gs_cvec_knn.fit(X_train,y_train)"
   ]
  },
  {
   "cell_type": "code",
   "execution_count": 114,
   "metadata": {},
   "outputs": [
    {
     "name": "stdout",
     "output_type": "stream",
     "text": [
      "The best score for the best model is :0.6053333333333333\n",
      "The best parameters for the best model is :{'cvec__max_df': 0.9, 'cvec__max_features': 3000, 'cvec__min_df': 2, 'cvec__ngram_range': (1, 1), 'cvec__stop_words': None, 'knn__n_neighbors': 7, 'knn__weights': 'distance'}\n",
      "The train data score is:0.9966666666666667\n",
      "The test data score is:0.602\n"
     ]
    }
   ],
   "source": [
    "print(f'The best score for the best model is :{gs_cvec_knn.best_score_}')\n",
    "print(f'The best parameters for the best model is :{gs_cvec_knn.best_params_}')\n",
    "print(f'The train data score is:{gs_cvec_knn.score(X_train,y_train)}')\n",
    "print(f'The test data score is:{gs_cvec_knn.score(X_test,y_test)}')"
   ]
  },
  {
   "cell_type": "markdown",
   "metadata": {},
   "source": [
    "### *CountVectorizer with MultinomialNB*\n",
    "---"
   ]
  },
  {
   "cell_type": "code",
   "execution_count": 86,
   "metadata": {},
   "outputs": [
    {
     "data": {
      "text/plain": [
       "GridSearchCV(cv=3,\n",
       "             estimator=Pipeline(steps=[('cvec', CountVectorizer()),\n",
       "                                       ('nb', MultinomialNB())]),\n",
       "             n_jobs=-1,\n",
       "             param_grid={'cvec__max_df': [0.9, 0.95],\n",
       "                         'cvec__max_features': [2000, 3000, 4000, 5000],\n",
       "                         'cvec__min_df': [2, 3],\n",
       "                         'cvec__ngram_range': [(1, 1), (1, 2)],\n",
       "                         'cvec__stop_words': [None, 'english']})"
      ]
     },
     "execution_count": 86,
     "metadata": {},
     "output_type": "execute_result"
    }
   ],
   "source": [
    "#setting up pipeline\n",
    "pipe_cvec_nb = Pipeline([('cvec', CountVectorizer()),('nb', MultinomialNB())])\n",
    "\n",
    "#setting up parameters\n",
    "pipe_cvec_params = {\n",
    "    'cvec__max_features': [2_000, 3_000, 4_000, 5_000],\n",
    "    'cvec__stop_words': [None, 'english'],\n",
    "    'cvec__ngram_range': [(1, 1), (1, 2)],\n",
    "    'cvec__min_df': [2, 3],\n",
    "    'cvec__max_df': [.9, .95]\n",
    "    }\n",
    "\n",
    "#instantiate GridSearchCV\n",
    "gs_cvec_nb = GridSearchCV(pipe_cvec_nb,param_grid = pipe_cvec_params,n_jobs=-1,cv = 3)\n",
    "\n",
    "#fitting with train data\n",
    "gs_cvec_nb.fit(X_train,y_train)"
   ]
  },
  {
   "cell_type": "code",
   "execution_count": 115,
   "metadata": {},
   "outputs": [
    {
     "name": "stdout",
     "output_type": "stream",
     "text": [
      "The best score for the best model is :0.7893333333333334\n",
      "The best parameters for the best model is :{'cvec__max_df': 0.9, 'cvec__max_features': 2000, 'cvec__min_df': 2, 'cvec__ngram_range': (1, 1), 'cvec__stop_words': None}\n",
      "The train data score is:0.8846666666666667\n",
      "The test data score is:0.806\n"
     ]
    }
   ],
   "source": [
    "print(f'The best score for the best model is :{gs_cvec_nb.best_score_}')\n",
    "print(f'The best parameters for the best model is :{gs_cvec_nb.best_params_}')\n",
    "print(f'The train data score is:{gs_cvec_nb.score(X_train,y_train)}')\n",
    "print(f'The test data score is:{gs_cvec_nb.score(X_test,y_test)}')"
   ]
  },
  {
   "cell_type": "markdown",
   "metadata": {},
   "source": [
    "### *CountVectorizer with RandomForest*\n",
    "---"
   ]
  },
  {
   "cell_type": "code",
   "execution_count": 88,
   "metadata": {},
   "outputs": [
    {
     "data": {
      "text/plain": [
       "GridSearchCV(cv=3,\n",
       "             estimator=Pipeline(steps=[('cvec', CountVectorizer()),\n",
       "                                       ('rf',\n",
       "                                        RandomForestClassifier(random_state=42))]),\n",
       "             n_jobs=-1,\n",
       "             param_grid={'cvec__max_df': [0.9, 0.95],\n",
       "                         'cvec__max_features': [2000, 3000, 4000, 5000],\n",
       "                         'cvec__min_df': [2, 3],\n",
       "                         'cvec__ngram_range': [(1, 1), (1, 2)],\n",
       "                         'cvec__stop_words': [None, 'english'],\n",
       "                         'rf__max_depth': [None, 1, 2, 3, 4],\n",
       "                         'rf__n_estimators': [100, 150, 200]})"
      ]
     },
     "execution_count": 88,
     "metadata": {},
     "output_type": "execute_result"
    }
   ],
   "source": [
    "#setting up pipeline\n",
    "pipe_cvec_rf = Pipeline([('cvec', CountVectorizer()),('rf', RandomForestClassifier(random_state=42))])\n",
    "\n",
    "#setting up parameters\n",
    "pipe_cvec_params = {\n",
    "    'cvec__max_features': [2_000, 3_000, 4_000, 5_000],\n",
    "    'cvec__stop_words': [None, 'english'],\n",
    "    'cvec__ngram_range': [(1, 1), (1, 2)],\n",
    "    'cvec__min_df': [2, 3],\n",
    "    'cvec__max_df': [.9, .95],\n",
    "    'rf__n_estimators':[100,150,200],\n",
    "    'rf__max_depth':[None,1,2,3,4]\n",
    "    }\n",
    "\n",
    "#instantiate GridSearchCV\n",
    "gs_cvec_rf = GridSearchCV(pipe_cvec_rf,param_grid = pipe_cvec_params,n_jobs=-1,cv = 3)\n",
    "\n",
    "#fitting with train data\n",
    "gs_cvec_rf.fit(X_train,y_train)"
   ]
  },
  {
   "cell_type": "code",
   "execution_count": 116,
   "metadata": {},
   "outputs": [
    {
     "name": "stdout",
     "output_type": "stream",
     "text": [
      "The best score for the best model is :0.7680000000000001\n",
      "The best parameters for the best model is :{'cvec__max_df': 0.9, 'cvec__max_features': 3000, 'cvec__min_df': 2, 'cvec__ngram_range': (1, 2), 'cvec__stop_words': 'english', 'rf__max_depth': None, 'rf__n_estimators': 150}\n",
      "The train data score is:0.9906666666666667\n",
      "The test data score is:0.76\n"
     ]
    }
   ],
   "source": [
    "print(f'The best score for the best model is :{gs_cvec_rf.best_score_}')\n",
    "print(f'The best parameters for the best model is :{gs_cvec_rf.best_params_}')\n",
    "print(f'The train data score is:{gs_cvec_rf.score(X_train,y_train)}')\n",
    "print(f'The test data score is:{gs_cvec_rf.score(X_test,y_test)}')"
   ]
  },
  {
   "cell_type": "markdown",
   "metadata": {},
   "source": [
    "---\n",
    "**Below are CountVectorizer models utilizing AdaBoost and GradientBoosting, unfortunately, these take forever to run and will require cloud computing.**\n",
    "\n",
    "---"
   ]
  },
  {
   "cell_type": "markdown",
   "metadata": {},
   "source": [
    "### *CountVectorizer with AdaBoost*\n",
    "---"
   ]
  },
  {
   "cell_type": "code",
   "execution_count": 137,
   "metadata": {},
   "outputs": [],
   "source": [
    "#setting up pipeline\n",
    "pipe_cvec_ada = Pipeline([('cvec', CountVectorizer()),('ada', AdaBoostClassifier(random_state=42))])\n",
    "\n",
    "#setting up parameters\n",
    "pipe_cvec_params = {\n",
    "    'cvec__max_features': [2_000, 3_000, 4_000, 5_000],\n",
    "    'cvec__stop_words': [None, 'english'],\n",
    "    'cvec__ngram_range': [(1, 1), (1, 2)],\n",
    "    'cvec__min_df': [2, 3],\n",
    "    'cvec__max_df': [.9, .95],\n",
    "    'ada__learning_rate': [0.1, 1, 10],\n",
    "    'ada__n_estimators': [10, 100]\n",
    "    }\n",
    "\n",
    "#instantiate GridSearchCV\n",
    "gs_cvec_ada = GridSearchCV(pipe_cvec_ada,param_grid = pipe_cvec_params,n_jobs=-1,cv = 3)\n",
    "\n",
    "#fitting with train data\n",
    "gs_cvec_ada.fit(X_train,y_train)"
   ]
  },
  {
   "cell_type": "code",
   "execution_count": 138,
   "metadata": {},
   "outputs": [],
   "source": [
    "print(f'The best score for the best model is :{gs_cvec_ada.best_score_}')\n",
    "print(f'The best parameters for the best model is :{gs_cvec_ada.best_params_}')\n",
    "print(f'The train data score is:{gs_cvec_ada.score(X_train,y_train)}')\n",
    "print(f'The test data score is:{gs_cvec_ada.score(X_test,y_test)}')"
   ]
  },
  {
   "cell_type": "markdown",
   "metadata": {},
   "source": [
    "### *CountVectorizer with GradientBoosting*\n",
    "---"
   ]
  },
  {
   "cell_type": "code",
   "execution_count": 139,
   "metadata": {},
   "outputs": [],
   "source": [
    "#setting up pipeline\n",
    "pipe_cvec_gb = Pipeline([('cvec', CountVectorizer()),('gb', GradientBoostingClassifier(random_state=42))])\n",
    "\n",
    "#setting up parameters\n",
    "pipe_cvec_params = {\n",
    "    'cvec__max_features': [2_000, 3_000, 4_000, 5_000],\n",
    "    'cvec__stop_words': [None, 'english'],\n",
    "    'cvec__ngram_range': [(1, 1), (1, 2)],\n",
    "    'cvec__min_df': [2, 3],\n",
    "    'cvec__max_df': [.9, .95],\n",
    "    'gb__learning_rate': [0.1, 1, 10],\n",
    "    'gb__n_estimators': [10, 100],\n",
    "    'gb__max_depth': [None, 1, 2, 3]\n",
    "    }\n",
    "\n",
    "#instantiate GridSearchCV\n",
    "gs_cvec_gb = GridSearchCV(pipe_cvec_gb,param_grid = pipe_cvec_params,n_jobs=-1,cv = 3)\n",
    "\n",
    "#fitting with train data\n",
    "gs_cvec_gb.fit(X_train,y_train)"
   ]
  },
  {
   "cell_type": "code",
   "execution_count": 140,
   "metadata": {},
   "outputs": [],
   "source": [
    "print(f'The best score for the best model is :{gs_cvec_gb.best_score_}')\n",
    "print(f'The best parameters for the best model is :{gs_cvec_gb.best_params_}')\n",
    "print(f'The train data score is:{gs_cvec_gb.score(X_train,y_train)}')\n",
    "print(f'The test data score is:{gs_cvec_gb.score(X_test,y_test)}')"
   ]
  },
  {
   "cell_type": "markdown",
   "metadata": {},
   "source": [
    "---"
   ]
  },
  {
   "cell_type": "markdown",
   "metadata": {},
   "source": [
    "### *TfidfVectorizer with LogisticRegression*\n",
    "---"
   ]
  },
  {
   "cell_type": "code",
   "execution_count": 90,
   "metadata": {},
   "outputs": [
    {
     "data": {
      "text/plain": [
       "GridSearchCV(cv=3,\n",
       "             estimator=Pipeline(steps=[('tvec', TfidfVectorizer()),\n",
       "                                       ('lr', LogisticRegression())]),\n",
       "             n_jobs=-1,\n",
       "             param_grid={'lr__penalty': ['l1', 'l2', None],\n",
       "                         'tvec__max_df': [0.9, 0.95],\n",
       "                         'tvec__max_features': [2000, 3000, 4000, 5000],\n",
       "                         'tvec__min_df': [2, 3],\n",
       "                         'tvec__ngram_range': [(1, 1), (1, 2)],\n",
       "                         'tvec__stop_words': [None, 'english']})"
      ]
     },
     "execution_count": 90,
     "metadata": {},
     "output_type": "execute_result"
    }
   ],
   "source": [
    "#setting up pipeline\n",
    "pipe_tvec_lr = Pipeline([('tvec', TfidfVectorizer()),('lr', LogisticRegression())])\n",
    "\n",
    "#setting up parameters\n",
    "pipe_tvec_params = {\n",
    "    'tvec__max_features': [2_000, 3_000, 4_000, 5_000],\n",
    "    'tvec__stop_words': [None, 'english'],\n",
    "    'tvec__ngram_range': [(1, 1), (1, 2)],\n",
    "    'tvec__min_df': [2, 3],\n",
    "    'tvec__max_df': [.9, .95],\n",
    "    'lr__penalty': ['l1','l2',None]\n",
    "    }\n",
    "\n",
    "#instantiate GridSearchCV\n",
    "gs_tvec_lr = GridSearchCV(pipe_tvec_lr,param_grid = pipe_tvec_params,n_jobs=-1,cv = 3)\n",
    "\n",
    "#fitting with train data\n",
    "gs_tvec_lr.fit(X_train,y_train)"
   ]
  },
  {
   "cell_type": "code",
   "execution_count": 117,
   "metadata": {},
   "outputs": [
    {
     "name": "stdout",
     "output_type": "stream",
     "text": [
      "The best score for the best model is :0.7973333333333334\n",
      "The best parameters for the best model is :{'lr__penalty': 'l2', 'tvec__max_df': 0.9, 'tvec__max_features': 4000, 'tvec__min_df': 2, 'tvec__ngram_range': (1, 2), 'tvec__stop_words': 'english'}\n",
      "The train data score is:0.9473333333333334\n",
      "The test data score is:0.816\n"
     ]
    }
   ],
   "source": [
    "print(f'The best score for the best model is :{gs_tvec_lr.best_score_}')\n",
    "print(f'The best parameters for the best model is :{gs_tvec_lr.best_params_}')\n",
    "print(f'The train data score is:{gs_tvec_lr.score(X_train,y_train)}')\n",
    "print(f'The test data score is:{gs_tvec_lr.score(X_test,y_test)}')"
   ]
  },
  {
   "cell_type": "markdown",
   "metadata": {},
   "source": [
    "### *TfidfVectorizer with KNeighbors*\n",
    "---"
   ]
  },
  {
   "cell_type": "code",
   "execution_count": 108,
   "metadata": {},
   "outputs": [
    {
     "data": {
      "text/plain": [
       "GridSearchCV(cv=3,\n",
       "             estimator=Pipeline(steps=[('tvec', TfidfVectorizer()),\n",
       "                                       ('knn', KNeighborsClassifier())]),\n",
       "             n_jobs=-1,\n",
       "             param_grid={'knn__n_neighbors': [3, 5, 7],\n",
       "                         'knn__weights': ['distance', 'uniform'],\n",
       "                         'tvec__max_df': [0.9, 0.95],\n",
       "                         'tvec__max_features': [2000, 3000, 4000, 5000],\n",
       "                         'tvec__min_df': [2, 3],\n",
       "                         'tvec__ngram_range': [(1, 1), (1, 2)],\n",
       "                         'tvec__stop_words': [None, 'english']})"
      ]
     },
     "execution_count": 108,
     "metadata": {},
     "output_type": "execute_result"
    }
   ],
   "source": [
    "#setting up pipeline\n",
    "pipe_tvec_knn = Pipeline([('tvec', TfidfVectorizer()),('knn', KNeighborsClassifier())])\n",
    "\n",
    "#setting up parameters\n",
    "pipe_tvec_params = {\n",
    "    'tvec__max_features': [2_000, 3_000, 4_000, 5_000],\n",
    "    'tvec__stop_words': [None, 'english'],\n",
    "    'tvec__ngram_range': [(1, 1), (1, 2)],\n",
    "    'tvec__min_df': [2, 3],\n",
    "    'tvec__max_df': [.9, .95],\n",
    "    'knn__n_neighbors':[3,5,7],\n",
    "    'knn__weights':['distance','uniform']\n",
    "    }\n",
    "\n",
    "#instantiate GridSearchCV\n",
    "gs_tvec_knn = GridSearchCV(pipe_tvec_knn,param_grid = pipe_tvec_params,n_jobs=-1,cv = 3)\n",
    "\n",
    "#fitting with train data\n",
    "gs_tvec_knn.fit(X_train,y_train)"
   ]
  },
  {
   "cell_type": "code",
   "execution_count": 109,
   "metadata": {},
   "outputs": [
    {
     "name": "stdout",
     "output_type": "stream",
     "text": [
      "The best score for the best model is :0.5293333333333333\n",
      "The best parameters for the best model is :{'knn__n_neighbors': 3, 'knn__weights': 'distance', 'tvec__max_df': 0.9, 'tvec__max_features': 2000, 'tvec__min_df': 3, 'tvec__ngram_range': (1, 2), 'tvec__stop_words': 'english'}\n",
      "The train data score is:0.9873333333333333\n",
      "The test data score is:0.524\n"
     ]
    }
   ],
   "source": [
    "print(f'The best score for the best model is :{gs_tvec_knn.best_score_}')\n",
    "print(f'The best parameters for the best model is :{gs_tvec_knn.best_params_}')\n",
    "print(f'The train data score is:{gs_tvec_knn.score(X_train,y_train)}')\n",
    "print(f'The test data score is:{gs_tvec_knn.score(X_test,y_test)}')"
   ]
  },
  {
   "cell_type": "markdown",
   "metadata": {},
   "source": [
    "### *TfidfVectorizer with MultinomialNB*\n",
    "---"
   ]
  },
  {
   "cell_type": "code",
   "execution_count": 92,
   "metadata": {},
   "outputs": [
    {
     "data": {
      "text/plain": [
       "GridSearchCV(cv=3,\n",
       "             estimator=Pipeline(steps=[('tvec', TfidfVectorizer()),\n",
       "                                       ('nb', MultinomialNB())]),\n",
       "             n_jobs=-1,\n",
       "             param_grid={'tvec__max_df': [0.9, 0.95],\n",
       "                         'tvec__max_features': [2000, 3000, 4000, 5000],\n",
       "                         'tvec__min_df': [2, 3],\n",
       "                         'tvec__ngram_range': [(1, 1), (1, 2)],\n",
       "                         'tvec__stop_words': [None, 'english']})"
      ]
     },
     "execution_count": 92,
     "metadata": {},
     "output_type": "execute_result"
    }
   ],
   "source": [
    "#setting up pipeline\n",
    "pipe_tvec_nb = Pipeline([('tvec', TfidfVectorizer()),('nb', MultinomialNB())])\n",
    "\n",
    "#setting up parameters\n",
    "pipe_tvec_params = {\n",
    "    'tvec__max_features': [2_000, 3_000, 4_000, 5_000],\n",
    "    'tvec__stop_words': [None, 'english'],\n",
    "    'tvec__ngram_range': [(1, 1), (1, 2)],\n",
    "    'tvec__min_df': [2, 3],\n",
    "    'tvec__max_df': [.9, .95]\n",
    "    }\n",
    "\n",
    "#instantiate GridSearchCV\n",
    "gs_tvec_nb = GridSearchCV(pipe_tvec_nb,param_grid = pipe_tvec_params,n_jobs=-1,cv = 3)\n",
    "\n",
    "#fitting with train data\n",
    "gs_tvec_nb.fit(X_train,y_train)"
   ]
  },
  {
   "cell_type": "code",
   "execution_count": 118,
   "metadata": {},
   "outputs": [
    {
     "name": "stdout",
     "output_type": "stream",
     "text": [
      "The best score for the best model is :0.7913333333333333\n",
      "The best parameters for the best model is :{'tvec__max_df': 0.9, 'tvec__max_features': 3000, 'tvec__min_df': 2, 'tvec__ngram_range': (1, 2), 'tvec__stop_words': 'english'}\n",
      "The train data score is:0.922\n",
      "The test data score is:0.798\n"
     ]
    }
   ],
   "source": [
    "print(f'The best score for the best model is :{gs_tvec_nb.best_score_}')\n",
    "print(f'The best parameters for the best model is :{gs_tvec_nb.best_params_}')\n",
    "print(f'The train data score is:{gs_tvec_nb.score(X_train,y_train)}')\n",
    "print(f'The test data score is:{gs_tvec_nb.score(X_test,y_test)}')"
   ]
  },
  {
   "cell_type": "markdown",
   "metadata": {},
   "source": [
    "### *TfidfVectorizer with RandomForest*\n",
    "---"
   ]
  },
  {
   "cell_type": "code",
   "execution_count": 94,
   "metadata": {},
   "outputs": [
    {
     "data": {
      "text/plain": [
       "GridSearchCV(cv=3,\n",
       "             estimator=Pipeline(steps=[('tvec', TfidfVectorizer()),\n",
       "                                       ('rf',\n",
       "                                        RandomForestClassifier(random_state=42))]),\n",
       "             n_jobs=-1,\n",
       "             param_grid={'rf__max_depth': [None, 1, 2, 3, 4],\n",
       "                         'rf__n_estimators': [100, 150, 200],\n",
       "                         'tvec__max_df': [0.9, 0.95],\n",
       "                         'tvec__max_features': [2000, 3000, 4000, 5000],\n",
       "                         'tvec__min_df': [2, 3],\n",
       "                         'tvec__ngram_range': [(1, 1), (1, 2)],\n",
       "                         'tvec__stop_words': [None, 'english']})"
      ]
     },
     "execution_count": 94,
     "metadata": {},
     "output_type": "execute_result"
    }
   ],
   "source": [
    "#setting up pipeline\n",
    "pipe_tvec_rf = Pipeline([('tvec', TfidfVectorizer()),('rf', RandomForestClassifier(random_state=42))])\n",
    "\n",
    "#setting up parameters\n",
    "pipe_tvec_params = {\n",
    "    'tvec__max_features': [2_000, 3_000, 4_000, 5_000],\n",
    "    'tvec__stop_words': [None, 'english'],\n",
    "    'tvec__ngram_range': [(1, 1), (1, 2)],\n",
    "    'tvec__min_df': [2, 3],\n",
    "    'tvec__max_df': [.9, .95],\n",
    "    'rf__n_estimators':[100,150,200],\n",
    "    'rf__max_depth':[None,1,2,3,4]\n",
    "    }\n",
    "\n",
    "#instantiate GridSearchCV\n",
    "gs_tvec_rf = GridSearchCV(pipe_tvec_rf,param_grid = pipe_tvec_params,n_jobs=-1,cv = 3)\n",
    "\n",
    "#fitting with train data\n",
    "gs_tvec_rf.fit(X_train,y_train)"
   ]
  },
  {
   "cell_type": "code",
   "execution_count": 119,
   "metadata": {},
   "outputs": [
    {
     "name": "stdout",
     "output_type": "stream",
     "text": [
      "The best score for the best model is :0.7646666666666667\n",
      "The best parameters for the best model is :{'rf__max_depth': None, 'rf__n_estimators': 100, 'tvec__max_df': 0.9, 'tvec__max_features': 2000, 'tvec__min_df': 3, 'tvec__ngram_range': (1, 1), 'tvec__stop_words': 'english'}\n",
      "The train data score is:0.9886666666666667\n",
      "The test data score is:0.764\n"
     ]
    }
   ],
   "source": [
    "print(f'The best score for the best model is :{gs_tvec_rf.best_score_}')\n",
    "print(f'The best parameters for the best model is :{gs_tvec_rf.best_params_}')\n",
    "print(f'The train data score is:{gs_tvec_rf.score(X_train,y_train)}')\n",
    "print(f'The test data score is:{gs_tvec_rf.score(X_test,y_test)}')"
   ]
  },
  {
   "cell_type": "markdown",
   "metadata": {},
   "source": [
    "---\n",
    "**Below are TfidfVectorizer models utilizing AdaBoost and GradientBoosting, unfortunately, these take forever to run and will require cloud computing.**\n",
    "\n",
    "---"
   ]
  },
  {
   "cell_type": "markdown",
   "metadata": {},
   "source": [
    "### *TfidfVectorizer with AdaBoost*\n",
    "---"
   ]
  },
  {
   "cell_type": "code",
   "execution_count": null,
   "metadata": {},
   "outputs": [],
   "source": [
    "#setting up pipeline\n",
    "pipe_tvec_ada = Pipeline([('tvec', TfidfVectorizer()),('ada',AdaBoostClassifier(random_state=42))])\n",
    "\n",
    "#setting up parameters\n",
    "pipe_tvec_params = {\n",
    "    'tvec__max_features': [2_000, 3_000, 4_000, 5_000],\n",
    "    'tvec__stop_words': [None, 'english'],\n",
    "    'tvec__ngram_range': [(1, 1), (1, 2)],\n",
    "    'tvec__min_df': [2, 3],\n",
    "    'tvec__max_df': [.9, .95],\n",
    "    'ada__learning_rate': [0.1, 1, 10],\n",
    "    'ada__n_estimators': [10, 100]\n",
    "    }\n",
    "\n",
    "#instantiate GridSearchCV\n",
    "gs_tvec_ada = GridSearchCV(pipe_tvec_ada,param_grid = pipe_tvec_params,n_jobs=-1,cv = 3)\n",
    "\n",
    "#fitting with train data\n",
    "gs_tvec_ada.fit(X_train,y_train)"
   ]
  },
  {
   "cell_type": "code",
   "execution_count": null,
   "metadata": {},
   "outputs": [],
   "source": [
    "print(f'The best score for the best model is :{gs_tvec_ada.best_score_}')\n",
    "print(f'The best parameters for the best model is :{gs_tvec_ada.best_params_}')\n",
    "print(f'The train data score is:{gs_tvec_ada.score(X_train,y_train)}')\n",
    "print(f'The test data score is:{gs_tvec_ada.score(X_test,y_test)}')"
   ]
  },
  {
   "cell_type": "markdown",
   "metadata": {},
   "source": [
    "### *TfidfVectorizer with GradientBoosting*\n",
    "---"
   ]
  },
  {
   "cell_type": "code",
   "execution_count": null,
   "metadata": {},
   "outputs": [],
   "source": [
    "#setting up pipeline\n",
    "pipe_tvec_gb = Pipeline([('tvec', TfidfVectorizer()),('gb',GradientBoostingClassifier(random_state=42))])\n",
    "\n",
    "#setting up parameters\n",
    "pipe_tvec_params = {\n",
    "    'tvec__max_features': [2_000, 3_000, 4_000, 5_000],\n",
    "    'tvec__stop_words': [None, 'english'],\n",
    "    'tvec__ngram_range': [(1, 1), (1, 2)],\n",
    "    'tvec__min_df': [2, 3],\n",
    "    'tvec__max_df': [.9, .95],\n",
    "    'gb__learning_rate': [0.1, 1, 10],\n",
    "    'gb__n_estimators': [10, 100]\n",
    "    }\n",
    "\n",
    "#instantiate GridSearchCV\n",
    "gs_tvec_gb = GridSearchCV(pipe_tvec_gb,param_grid = pipe_tvec_params,n_jobs=-1,cv = 3)\n",
    "\n",
    "#fitting with train data\n",
    "gs_tvec_gb.fit(X_train,y_train)"
   ]
  },
  {
   "cell_type": "code",
   "execution_count": null,
   "metadata": {},
   "outputs": [],
   "source": [
    "print(f'The best score for the best model is :{gs_tvec_gb.best_score_}')\n",
    "print(f'The best parameters for the best model is :{gs_tvec_gb.best_params_}')\n",
    "print(f'The train data score is:{gs_tvec_gb.score(X_train,y_train)}')\n",
    "print(f'The test data score is:{gs_tvec_gb.score(X_test,y_test)}')"
   ]
  },
  {
   "cell_type": "markdown",
   "metadata": {},
   "source": [
    "## Accuracy of Models\n",
    "---"
   ]
  },
  {
   "cell_type": "markdown",
   "metadata": {},
   "source": [
    "#### CountVectorizer with LogisticRegression Score"
   ]
  },
  {
   "cell_type": "code",
   "execution_count": 120,
   "metadata": {},
   "outputs": [
    {
     "name": "stdout",
     "output_type": "stream",
     "text": [
      "The train data score is:0.9653333333333334\n",
      "The test data score is:0.814\n"
     ]
    }
   ],
   "source": [
    "print(f'The train data score is:{gs_cvec_lr.score(X_train,y_train)}')\n",
    "print(f'The test data score is:{gs_cvec_lr.score(X_test,y_test)}')"
   ]
  },
  {
   "cell_type": "code",
   "execution_count": 186,
   "metadata": {},
   "outputs": [
    {
     "data": {
      "image/png": "[encoded data removed]",
      "text/plain": [
       "<Figure size 432x288 with 2 Axes>"
      ]
     },
     "metadata": {
      "needs_background": "light"
     },
     "output_type": "display_data"
    }
   ],
   "source": [
    "plot_confusion_matrix(gs_cvec_lr, X_test, y_test, display_labels=['powerlifting', 'bodybuilding'], cmap='RdYlGn');"
   ]
  },
  {
   "cell_type": "markdown",
   "metadata": {},
   "source": [
    "#### CountVectorizer with KNeighbors Score"
   ]
  },
  {
   "cell_type": "code",
   "execution_count": 121,
   "metadata": {},
   "outputs": [
    {
     "name": "stdout",
     "output_type": "stream",
     "text": [
      "The train data score is:0.9966666666666667\n",
      "The test data score is:0.602\n"
     ]
    }
   ],
   "source": [
    "print(f'The train data score is:{gs_cvec_knn.score(X_train,y_train)}')\n",
    "print(f'The test data score is:{gs_cvec_knn.score(X_test,y_test)}')"
   ]
  },
  {
   "cell_type": "code",
   "execution_count": 162,
   "metadata": {},
   "outputs": [
    {
     "data": {
      "image/png": "[encoded data removed]",
      "text/plain": [
       "<Figure size 432x288 with 2 Axes>"
      ]
     },
     "metadata": {
      "needs_background": "light"
     },
     "output_type": "display_data"
    }
   ],
   "source": [
    "plot_confusion_matrix(gs_cvec_knn, X_test, y_test, display_labels=['powerlifting', 'bodybuilding'], cmap='RdYlGn');"
   ]
  },
  {
   "cell_type": "markdown",
   "metadata": {},
   "source": [
    "#### CountVectorizer with MultinomialNB Score"
   ]
  },
  {
   "cell_type": "code",
   "execution_count": 122,
   "metadata": {},
   "outputs": [
    {
     "name": "stdout",
     "output_type": "stream",
     "text": [
      "The train data score is:0.8846666666666667\n",
      "The test data score is:0.806\n"
     ]
    }
   ],
   "source": [
    "print(f'The train data score is:{gs_cvec_nb.score(X_train,y_train)}')\n",
    "print(f'The test data score is:{gs_cvec_nb.score(X_test,y_test)}')"
   ]
  },
  {
   "cell_type": "code",
   "execution_count": 165,
   "metadata": {},
   "outputs": [
    {
     "data": {
      "image/png": "[encoded data removed]",
      "text/plain": [
       "<Figure size 432x288 with 2 Axes>"
      ]
     },
     "metadata": {
      "needs_background": "light"
     },
     "output_type": "display_data"
    }
   ],
   "source": [
    "plot_confusion_matrix(gs_cvec_nb, X_test, y_test, display_labels=['powerlifting', 'bodybuilding'], cmap='RdYlGn');"
   ]
  },
  {
   "cell_type": "markdown",
   "metadata": {},
   "source": [
    "#### CountVectorizer with RandomForest Score"
   ]
  },
  {
   "cell_type": "code",
   "execution_count": 123,
   "metadata": {},
   "outputs": [
    {
     "name": "stdout",
     "output_type": "stream",
     "text": [
      "The train data score is:0.9906666666666667\n",
      "The test data score is:0.76\n"
     ]
    }
   ],
   "source": [
    "print(f'The train data score is:{gs_cvec_rf.score(X_train,y_train)}')\n",
    "print(f'The test data score is:{gs_cvec_rf.score(X_test,y_test)}')"
   ]
  },
  {
   "cell_type": "code",
   "execution_count": 166,
   "metadata": {},
   "outputs": [
    {
     "data": {
      "image/png": "[encoded data removed]",
      "text/plain": [
       "<Figure size 432x288 with 2 Axes>"
      ]
     },
     "metadata": {
      "needs_background": "light"
     },
     "output_type": "display_data"
    }
   ],
   "source": [
    "plot_confusion_matrix(gs_cvec_rf, X_test, y_test, display_labels=['powerlifting', 'bodybuilding'], cmap='RdYlGn');"
   ]
  },
  {
   "cell_type": "markdown",
   "metadata": {},
   "source": [
    "## *The best performing model with the CountVectorizer is the LogisticRegression Model*"
   ]
  },
  {
   "cell_type": "code",
   "execution_count": 172,
   "metadata": {},
   "outputs": [
    {
     "name": "stdout",
     "output_type": "stream",
     "text": [
      "The best performing CountVectorizer model train data score is:0.9653333333333334\n",
      "The best performing CountVectorizer model test data score is:0.814\n"
     ]
    }
   ],
   "source": [
    "print(f'The best performing CountVectorizer model train data score is:{gs_cvec_lr.score(X_train,y_train)}')\n",
    "print(f'The best performing CountVectorizer model test data score is:{gs_cvec_lr.score(X_test,y_test)}')"
   ]
  },
  {
   "cell_type": "markdown",
   "metadata": {},
   "source": [
    "---"
   ]
  },
  {
   "cell_type": "markdown",
   "metadata": {},
   "source": [
    "#### TfidfVectorizer with LogisticRegression Score"
   ]
  },
  {
   "cell_type": "code",
   "execution_count": 124,
   "metadata": {},
   "outputs": [
    {
     "name": "stdout",
     "output_type": "stream",
     "text": [
      "The train data score is:0.9473333333333334\n",
      "The test data score is:0.816\n"
     ]
    }
   ],
   "source": [
    "print(f'The train data score is:{gs_tvec_lr.score(X_train,y_train)}')\n",
    "print(f'The test data score is:{gs_tvec_lr.score(X_test,y_test)}')"
   ]
  },
  {
   "cell_type": "code",
   "execution_count": 167,
   "metadata": {},
   "outputs": [
    {
     "data": {
      "image/png": "[encoded data removed]",
      "text/plain": [
       "<Figure size 432x288 with 2 Axes>"
      ]
     },
     "metadata": {
      "needs_background": "light"
     },
     "output_type": "display_data"
    }
   ],
   "source": [
    "plot_confusion_matrix(gs_tvec_lr, X_test, y_test, display_labels=['powerlifting', 'bodybuilding'], cmap='RdYlGn');"
   ]
  },
  {
   "cell_type": "markdown",
   "metadata": {},
   "source": [
    "#### TfidfVectorizer with KNeighbors Score"
   ]
  },
  {
   "cell_type": "code",
   "execution_count": 125,
   "metadata": {},
   "outputs": [
    {
     "name": "stdout",
     "output_type": "stream",
     "text": [
      "The train data score is:0.9873333333333333\n",
      "The test data score is:0.524\n"
     ]
    }
   ],
   "source": [
    "print(f'The train data score is:{gs_tvec_knn.score(X_train,y_train)}')\n",
    "print(f'The test data score is:{gs_tvec_knn.score(X_test,y_test)}')"
   ]
  },
  {
   "cell_type": "code",
   "execution_count": 168,
   "metadata": {},
   "outputs": [
    {
     "data": {
      "image/png": "[encoded data removed]",
      "text/plain": [
       "<Figure size 432x288 with 2 Axes>"
      ]
     },
     "metadata": {
      "needs_background": "light"
     },
     "output_type": "display_data"
    }
   ],
   "source": [
    "plot_confusion_matrix(gs_cvec_knn, X_test, y_test, display_labels=['powerlifting', 'bodybuilding'], cmap='RdYlGn');"
   ]
  },
  {
   "cell_type": "markdown",
   "metadata": {},
   "source": [
    "#### TfidfVectorizer with MultinomialNB Score"
   ]
  },
  {
   "cell_type": "code",
   "execution_count": 126,
   "metadata": {},
   "outputs": [
    {
     "name": "stdout",
     "output_type": "stream",
     "text": [
      "The train data score is:0.922\n",
      "The test data score is:0.798\n"
     ]
    }
   ],
   "source": [
    "print(f'The train data score is:{gs_tvec_nb.score(X_train,y_train)}')\n",
    "print(f'The test data score is:{gs_tvec_nb.score(X_test,y_test)}')"
   ]
  },
  {
   "cell_type": "code",
   "execution_count": 169,
   "metadata": {},
   "outputs": [
    {
     "data": {
      "image/png": "[encoded data removed]",
      "text/plain": [
       "<Figure size 432x288 with 2 Axes>"
      ]
     },
     "metadata": {
      "needs_background": "light"
     },
     "output_type": "display_data"
    }
   ],
   "source": [
    "plot_confusion_matrix(gs_cvec_nb, X_test, y_test, display_labels=['powerlifting', 'bodybuilding'], cmap='RdYlGn');"
   ]
  },
  {
   "cell_type": "markdown",
   "metadata": {},
   "source": [
    "#### TfidfVectorizer with RandomForest Score"
   ]
  },
  {
   "cell_type": "code",
   "execution_count": 127,
   "metadata": {},
   "outputs": [
    {
     "name": "stdout",
     "output_type": "stream",
     "text": [
      "The train data score is:0.9886666666666667\n",
      "The test data score is:0.764\n"
     ]
    }
   ],
   "source": [
    "print(f'The train data score is:{gs_tvec_rf.score(X_train,y_train)}')\n",
    "print(f'The test data score is:{gs_tvec_rf.score(X_test,y_test)}')"
   ]
  },
  {
   "cell_type": "code",
   "execution_count": 170,
   "metadata": {},
   "outputs": [
    {
     "data": {
      "image/png": "[encoded data removed]",
      "text/plain": [
       "<Figure size 432x288 with 2 Axes>"
      ]
     },
     "metadata": {
      "needs_background": "light"
     },
     "output_type": "display_data"
    }
   ],
   "source": [
    "plot_confusion_matrix(gs_cvec_rf, X_test, y_test, display_labels=['powerlifting', 'bodybuilding'], cmap='RdYlGn');"
   ]
  },
  {
   "cell_type": "markdown",
   "metadata": {},
   "source": [
    "#### *The best performing models with each transformers are:*"
   ]
  },
  {
   "cell_type": "markdown",
   "metadata": {},
   "source": [
    "##### CountVectorizer with LogisticRegression"
   ]
  },
  {
   "cell_type": "code",
   "execution_count": 181,
   "metadata": {},
   "outputs": [
    {
     "name": "stdout",
     "output_type": "stream",
     "text": [
      "The best performing CountVectorizer model train data score is:0.9653333333333334\n",
      "The best performing CountVectorizer model test data score is:0.814\n"
     ]
    }
   ],
   "source": [
    "print(f'The best performing CountVectorizer model train data score is:{gs_cvec_lr.score(X_train,y_train)}')\n",
    "print(f'The best performing CountVectorizer model test data score is:{gs_cvec_lr.score(X_test,y_test)}')"
   ]
  },
  {
   "cell_type": "markdown",
   "metadata": {},
   "source": [
    "##### TfidfVectorizer with LogisticRegression"
   ]
  },
  {
   "cell_type": "code",
   "execution_count": 182,
   "metadata": {},
   "outputs": [
    {
     "name": "stdout",
     "output_type": "stream",
     "text": [
      "The best performing TfidfVectorizer model train data score is:0.9473333333333334\n",
      "The best performing TfidfVectorizer model test data score is:0.816\n"
     ]
    }
   ],
   "source": [
    "print(f'The best performing TfidfVectorizer model train data score is:{gs_tvec_lr.score(X_train,y_train)}')\n",
    "print(f'The best performing TfidfVectorizer model test data score is:{gs_tvec_lr.score(X_test,y_test)}')"
   ]
  }
 ],
 "metadata": {
  "kernelspec": {
   "display_name": "Python 3",
   "language": "python",
   "name": "python3"
  },
  "language_info": {
   "codemirror_mode": {
    "name": "ipython",
    "version": 3
   },
   "file_extension": ".py",
   "mimetype": "text/x-python",
   "name": "python",
   "nbconvert_exporter": "python",
   "pygments_lexer": "ipython3",
   "version": "3.8.5"
  }
 },
 "nbformat": 4,
 "nbformat_minor": 4
}
